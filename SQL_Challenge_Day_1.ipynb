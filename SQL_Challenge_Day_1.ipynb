{
 "cells": [
  {
   "cell_type": "code",
   "execution_count": 0,
   "metadata": {
    "application/vnd.databricks.v1+cell": {
     "cellMetadata": {
      "byteLimit": 2048000,
      "rowLimit": 10000
     },
     "inputWidgets": {},
     "nuid": "38f49f80-e810-432a-b852-b7c69fac76e3",
     "showTitle": false,
     "title": ""
    }
   },
   "outputs": [],
   "source": [
    "sales=spark.read.option(\"header\",True).csv(\"/FileStore/tables/sales.csv\")\n",
    "menu=spark.read.option(\"header\",True).csv(\"/FileStore/tables/menu.csv\")\n",
    "members=spark.read.option(\"header\",True).csv(\"/FileStore/tables/members.csv\")"
   ]
  },
  {
   "cell_type": "code",
   "execution_count": 0,
   "metadata": {
    "application/vnd.databricks.v1+cell": {
     "cellMetadata": {
      "byteLimit": 2048000,
      "rowLimit": 10000
     },
     "inputWidgets": {},
     "nuid": "914a4ab5-e8cc-4cf6-9152-ab0d1d42d3ca",
     "showTitle": false,
     "title": ""
    }
   },
   "outputs": [
    {
     "output_type": "stream",
     "name": "stdout",
     "output_type": "stream",
     "text": [
      "root\n |-- product_id: integer (nullable = true)\n |-- product_name: string (nullable = true)\n |-- price: integer (nullable = true)\n\nroot\n |-- product_id: integer (nullable = true)\n |-- product_name: string (nullable = true)\n |-- price: integer (nullable = true)\n\n"
     ]
    }
   ],
   "source": [
    "menu.printSchema()\n",
    "from pyspark.sql.types import IntegerType\n",
    "menu=menu.select(menu.product_id.cast(IntegerType()), menu.product_name, menu.price.cast(IntegerType()), )\n",
    "menu.printSchema()\n"
   ]
  },
  {
   "cell_type": "code",
   "execution_count": 0,
   "metadata": {
    "application/vnd.databricks.v1+cell": {
     "cellMetadata": {
      "byteLimit": 2048000,
      "rowLimit": 10000
     },
     "inputWidgets": {},
     "nuid": "3d312b20-01ef-4de8-8c25-6b1b855322ec",
     "showTitle": false,
     "title": ""
    }
   },
   "outputs": [
    {
     "output_type": "stream",
     "name": "stdout",
     "output_type": "stream",
     "text": [
      "+-----------+------------+\n|customer_id|total_amount|\n+-----------+------------+\n|          A|          76|\n|          B|          74|\n|          C|          36|\n+-----------+------------+\n\n"
     ]
    }
   ],
   "source": [
    "total_amount=sales.join(menu, menu.product_id==sales.product_id,'left').groupBy(\"customer_id\").agg({'price':'sum'}).withColumnRenamed('sum(price)','total_amount').orderBy(\"customer_id\")\n",
    "total_amount.show()"
   ]
  },
  {
   "cell_type": "code",
   "execution_count": 0,
   "metadata": {
    "application/vnd.databricks.v1+cell": {
     "cellMetadata": {
      "byteLimit": 2048000,
      "rowLimit": 10000
     },
     "inputWidgets": {},
     "nuid": "c0562c99-2161-4a4e-9654-43f491efbd0a",
     "showTitle": false,
     "title": ""
    }
   },
   "outputs": [
    {
     "output_type": "stream",
     "name": "stdout",
     "output_type": "stream",
     "text": [
      "+-----------+-----------------+\n|customer_id|count(order_date)|\n+-----------+-----------------+\n|          B|                6|\n|          C|                2|\n|          A|                4|\n+-----------+-----------------+\n\n"
     ]
    }
   ],
   "source": [
    "from pyspark.sql.functions import countDistinct\n",
    "visited=sales.groupBy(\"customer_id\").agg(countDistinct(\"order_date\"))\n",
    "visited.show()"
   ]
  },
  {
   "cell_type": "code",
   "execution_count": 0,
   "metadata": {
    "application/vnd.databricks.v1+cell": {
     "cellMetadata": {
      "byteLimit": 2048000,
      "rowLimit": 10000
     },
     "inputWidgets": {},
     "nuid": "193bc7e3-897f-45e1-b285-41cd043e6087",
     "showTitle": false,
     "title": ""
    }
   },
   "outputs": [
    {
     "output_type": "stream",
     "name": "stdout",
     "output_type": "stream",
     "text": [
      "+-----------+------------+\n|customer_id|product_name|\n+-----------+------------+\n|          A|       sushi|\n|          A|       curry|\n|          B|       curry|\n|          C|       ramen|\n+-----------+------------+\n\n"
     ]
    }
   ],
   "source": [
    "from pyspark.sql.functions import dense_rank\n",
    "from pyspark.sql.window import Window\n",
    "first_item=sales.withColumn(\"first\", dense_rank().over(Window.partitionBy(\"customer_id\").orderBy(\"order_date\"))).filter(\"first==1\").join(menu, menu.product_id==sales.product_id,'left').select('customer_id','product_name').distinct()\n",
    "first_item.show()"
   ]
  },
  {
   "cell_type": "code",
   "execution_count": 0,
   "metadata": {
    "application/vnd.databricks.v1+cell": {
     "cellMetadata": {
      "byteLimit": 2048000,
      "rowLimit": 10000
     },
     "inputWidgets": {},
     "nuid": "8ceb995b-5680-4ff7-9e43-d9c534a90955",
     "showTitle": false,
     "title": ""
    }
   },
   "outputs": [
    {
     "output_type": "stream",
     "name": "stdout",
     "output_type": "stream",
     "text": [
      "+------------+-----------+\n|product_name|total_count|\n+------------+-----------+\n|       ramen|          8|\n+------------+-----------+\n\n"
     ]
    }
   ],
   "source": [
    "from pyspark.sql.functions import sum, count,max\n",
    "most_purchased=sales.join(menu,\"product_id\").groupBy(\"product_id\",\"product_name\").agg(count(\"product_id\").alias(\"total_count\")).orderBy(\"total_count\",ascending=0).drop(\"product_id\").limit(1)\n",
    "most_purchased.show()"
   ]
  },
  {
   "cell_type": "code",
   "execution_count": 0,
   "metadata": {
    "application/vnd.databricks.v1+cell": {
     "cellMetadata": {
      "byteLimit": 2048000,
      "rowLimit": 10000
     },
     "inputWidgets": {},
     "nuid": "da869373-70ea-47bc-9249-5f16aa99c1e7",
     "showTitle": false,
     "title": ""
    }
   },
   "outputs": [
    {
     "output_type": "stream",
     "name": "stdout",
     "output_type": "stream",
     "text": [
      "+-----------+------------+\n|customer_id|product_name|\n+-----------+------------+\n|          A|       curry|\n|          B|       sushi|\n+-----------+------------+\n\n"
     ]
    }
   ],
   "source": [
    "member_first=sales.join(members,\"customer_id\",\"inner\").filter(\"order_date>=join_date\").withColumn(\"first\",dense_rank().over(Window.partitionBy(\"customer_id\").orderBy(\"order_date\"))).filter(\"first==1\").join(menu,menu.product_id==sales.product_id,\"inner\").select(\"customer_id\",\"product_name\")\n",
    "member_first.show()"
   ]
  },
  {
   "cell_type": "code",
   "execution_count": 0,
   "metadata": {
    "application/vnd.databricks.v1+cell": {
     "cellMetadata": {
      "byteLimit": 2048000,
      "rowLimit": 10000
     },
     "inputWidgets": {},
     "nuid": "bf3d1aa4-abfc-4159-a22c-6d0b1789af24",
     "showTitle": false,
     "title": ""
    }
   },
   "outputs": [
    {
     "output_type": "stream",
     "name": "stdout",
     "output_type": "stream",
     "text": [
      "+-----------+------------+\n|customer_id|product_name|\n+-----------+------------+\n|          A|       sushi|\n|          A|       curry|\n|          B|       curry|\n+-----------+------------+\n\n"
     ]
    }
   ],
   "source": [
    "before_member_first=sales.join(members,\"customer_id\",\"inner\").filter(\"order_date<join_date\").withColumn(\"first\",dense_rank().over(Window.partitionBy(\"customer_id\").orderBy(\"order_date\"))).filter(\"first==1\").join(menu,menu.product_id==sales.product_id,\"inner\").select(\"customer_id\",\"product_name\")\n",
    "member_first.show()"
   ]
  },
  {
   "cell_type": "code",
   "execution_count": 0,
   "metadata": {
    "application/vnd.databricks.v1+cell": {
     "cellMetadata": {},
     "inputWidgets": {},
     "nuid": "57adfe76-ac1a-4e6d-9773-95bb3b11c2bf",
     "showTitle": false,
     "title": ""
    }
   },
   "outputs": [],
   "source": []
  }
 ],
 "metadata": {
  "application/vnd.databricks.v1+notebook": {
   "dashboards": [],
   "language": "python",
   "notebookMetadata": {
    "pythonIndentUnit": 4
   },
   "notebookName": "SQL_Challenge_Day_1",
   "widgets": {}
  }
 },
 "nbformat": 4,
 "nbformat_minor": 0
}
